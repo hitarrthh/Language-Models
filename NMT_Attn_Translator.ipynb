{
  "cells": [
    {
      "cell_type": "code",
      "source": [
        "import torch\n",
        "import torch.nn as nn\n",
        "import torch.optim as optim\n",
        "from torch.utils.data import Dataset, DataLoader\n",
        "\n",
        "import unicodedata\n",
        "import re\n",
        "import random\n",
        "import time\n",
        "import math\n",
        "import numpy as np\n",
        "\n",
        "import matplotlib.pyplot as plt\n",
        "import matplotlib.ticker as ticker\n",
        "import warnings\n",
        "warnings.filterwarnings(\"ignore\")\n",
        "import gc\n",
        "collected_objects = gc.collect()\n",
        "print(f\"Garbage Collector: Freed {collected_objects} objects.\")"
      ],
      "metadata": {
        "colab": {
          "base_uri": "https://localhost:8080/"
        },
        "id": "fI368MPOBMaZ",
        "outputId": "a6161f27-ff08-4ad2-83a1-0e1028bc57b2"
      },
      "execution_count": 15,
      "outputs": [
        {
          "output_type": "stream",
          "name": "stdout",
          "text": [
            "Garbage Collector: Freed 0 objects.\n"
          ]
        }
      ]
    },
    {
      "cell_type": "markdown",
      "source": [
        "Data Preparation"
      ],
      "metadata": {
        "id": "_nyFs16_dVmI"
      }
    },
    {
      "cell_type": "code",
      "source": [
        "PAD_token = 0\n",
        "SOS_token = 1\n",
        "EOS_token = 2\n",
        "UNK_token = 3\n",
        "\n",
        "class Lang:\n",
        "    def __init__(self, name):\n",
        "        self.name = name\n",
        "        self.word2index = {}\n",
        "        self.word2count = {}\n",
        "        self.index2word = {PAD_token: \"PAD\", SOS_token: \"SOS\", EOS_token: \"EOS\", UNK_token: \"UNK\"}\n",
        "        self.n_words = 4\n",
        "\n",
        "    def addSentence(self, sentence):\n",
        "        for word in sentence.split(' '):\n",
        "            self.addWord(word)\n",
        "\n",
        "    def addWord(self, word):\n",
        "        if word not in self.word2index:\n",
        "            self.word2index[word] = self.n_words\n",
        "            self.word2count[word] = 1\n",
        "            self.index2word[self.n_words] = word\n",
        "            self.n_words += 1\n",
        "        else:\n",
        "            self.word2count[word] += 1\n",
        "\n",
        "def create_pairs_from_files(eng_filepath, mar_filepath):\n",
        "    with open(eng_filepath, 'r', encoding='utf-8', errors='ignore') as f:\n",
        "        eng_lines = f.read().strip().split('\\n')\n",
        "    with open(mar_filepath, 'r', encoding='utf-8', errors='ignore') as f:\n",
        "        mar_lines = f.read().strip().split('\\n')\n",
        "    num_pairs = min(len(eng_lines), len(mar_lines))\n",
        "    pairs = [[normalize_string(eng_lines[i]), normalize_string(mar_lines[i])] for i in range(num_pairs)]\n",
        "    return pairs\n",
        "\n",
        "def normalize_string(s):\n",
        "    s = s.lower().strip()\n",
        "    s = re.sub(r\"([.!?])\", r\" \\1\", s)\n",
        "    s = re.sub(r\"[^a-zA-Z.!?\\u0900-\\u097F]+\", r\" \", s)\n",
        "    return s\n",
        "\n",
        "def read_langs(lang1, lang2, pairs):\n",
        "    lang1_lang = Lang(lang1)\n",
        "    lang2_lang = Lang(lang2)\n",
        "    for pair in pairs:\n",
        "        lang1_lang.addSentence(pair[0])\n",
        "        lang2_lang.addSentence(pair[1])\n",
        "    return lang1_lang, lang2_lang\n",
        "\n",
        "class TranslationDataset(Dataset):\n",
        "    def __init__(self, pairs, input_lang, output_lang, max_len):\n",
        "        self.pairs = pairs\n",
        "        self.input_lang = input_lang\n",
        "        self.output_lang = output_lang\n",
        "        self.max_len = max_len\n",
        "\n",
        "    def __len__(self):\n",
        "        return len(self.pairs)\n",
        "\n",
        "    def __getitem__(self, idx):\n",
        "        pair = self.pairs[idx]\n",
        "        input_tensor = self.tensorFromSentence(self.input_lang, pair[0])\n",
        "        target_tensor = self.tensorFromSentence(self.output_lang, pair[1])\n",
        "        return input_tensor, target_tensor\n",
        "\n",
        "    def indexesFromSentence(self, lang, sentence):\n",
        "        return [lang.word2index.get(word, UNK_token) for word in sentence.split(' ')]\n",
        "\n",
        "    def tensorFromSentence(self, lang, sentence):\n",
        "        indexes = self.indexesFromSentence(lang, sentence)\n",
        "        indexes.append(EOS_token)\n",
        "        padded_indexes = indexes + [PAD_token] * (self.max_len - len(indexes))\n",
        "        return torch.tensor(padded_indexes, dtype=torch.long)\n"
      ],
      "metadata": {
        "id": "WFDNXBmQdWdD"
      },
      "execution_count": 16,
      "outputs": []
    },
    {
      "cell_type": "markdown",
      "source": [
        "Model Architecture"
      ],
      "metadata": {
        "id": "F1q729a0dYnT"
      }
    },
    {
      "cell_type": "code",
      "source": [
        "class EncoderRNN(nn.Module):\n",
        "    def __init__(self, input_size, hidden_size, embedding_dim):\n",
        "        super(EncoderRNN, self).__init__()\n",
        "        self.embedding = nn.Embedding(input_size, embedding_dim)\n",
        "        self.lstm = nn.LSTM(embedding_dim, hidden_size, batch_first=True)\n",
        "\n",
        "    def forward(self, input_tensor):\n",
        "        embedded = self.embedding(input_tensor)\n",
        "        outputs, (hidden, cell) = self.lstm(embedded)\n",
        "        return outputs, hidden, cell\n",
        "\n",
        "class Attention(nn.Module):\n",
        "    def __init__(self, hidden_size):\n",
        "        super(Attention, self).__init__()\n",
        "        self.Wa = nn.Linear(hidden_size, hidden_size)\n",
        "        self.Ua = nn.Linear(hidden_size, hidden_size)\n",
        "        self.Va = nn.Linear(hidden_size, 1)\n",
        "\n",
        "    def forward(self, query, keys):\n",
        "        scores = self.Va(torch.tanh(self.Wa(query) + self.Ua(keys)))\n",
        "        scores = scores.squeeze(2).unsqueeze(1)\n",
        "        weights = torch.softmax(scores, dim=-1)\n",
        "        context = torch.bmm(weights, keys)\n",
        "        return context, weights\n",
        "\n",
        "class AttnDecoderRNN(nn.Module):\n",
        "    def __init__(self, hidden_size, output_size, embedding_dim):\n",
        "        super(AttnDecoderRNN, self).__init__()\n",
        "        self.embedding = nn.Embedding(output_size, embedding_dim)\n",
        "        self.attention = Attention(hidden_size)\n",
        "        self.lstm = nn.LSTM(embedding_dim + hidden_size, hidden_size, batch_first=True)\n",
        "        self.out = nn.Linear(hidden_size, output_size)\n",
        "\n",
        "    def forward(self, encoder_outputs, encoder_hidden, device, target_tensor=None):\n",
        "        batch_size = encoder_outputs.size(0)\n",
        "        decoder_input = torch.empty(batch_size, 1, dtype=torch.long, device=device).fill_(SOS_token)\n",
        "        decoder_hidden = encoder_hidden\n",
        "        decoder_cell = torch.zeros_like(decoder_hidden, device=device)\n",
        "        decoder_outputs = []\n",
        "        max_len = target_tensor.shape[1] if target_tensor is not None else 20\n",
        "        for i in range(max_len):\n",
        "            decoder_output, decoder_hidden, decoder_cell, _ = self.forward_step(\n",
        "                decoder_input, decoder_hidden, decoder_cell, encoder_outputs\n",
        "            )\n",
        "            decoder_outputs.append(decoder_output)\n",
        "            if target_tensor is not None and random.random() < 0.5:\n",
        "                decoder_input = target_tensor[:, i].unsqueeze(1)\n",
        "            else:\n",
        "                _, topi = decoder_output.topk(1)\n",
        "                decoder_input = topi.squeeze(-1).detach()\n",
        "        decoder_outputs = torch.cat(decoder_outputs, dim=1)\n",
        "        decoder_outputs = torch.log_softmax(decoder_outputs, dim=-1)\n",
        "        return decoder_outputs, decoder_hidden, None\n",
        "\n",
        "    def forward_step(self, input_tensor, hidden, cell, encoder_outputs):\n",
        "        embedded = self.embedding(input_tensor)\n",
        "        query = hidden.permute(1, 0, 2)\n",
        "        context, attn_weights = self.attention(query, encoder_outputs)\n",
        "        input_lstm = torch.cat((embedded, context), dim=2)\n",
        "        output, (hidden, cell) = self.lstm(input_lstm, (hidden, cell))\n",
        "        output = self.out(output)\n",
        "        return output, hidden, cell, attn_weights\n"
      ],
      "metadata": {
        "id": "38j8VlxiC3jn"
      },
      "execution_count": 17,
      "outputs": []
    },
    {
      "cell_type": "markdown",
      "source": [
        "Training and Translation Helpers"
      ],
      "metadata": {
        "id": "V6XYK9heXi-S"
      }
    },
    {
      "cell_type": "code",
      "source": [
        "def train_epoch(dataloader, encoder, decoder, encoder_optimizer, decoder_optimizer, criterion, device):\n",
        "    total_loss = 0\n",
        "    for data in dataloader:\n",
        "        input_tensor, target_tensor = data[0].to(device), data[1].to(device)\n",
        "        encoder_optimizer.zero_grad()\n",
        "        decoder_optimizer.zero_grad()\n",
        "        encoder_outputs, encoder_hidden, _ = encoder(input_tensor)\n",
        "        decoder_outputs, _, _ = decoder(encoder_outputs, encoder_hidden, device, target_tensor)\n",
        "        loss = criterion(\n",
        "            decoder_outputs.view(-1, decoder.out.out_features),\n",
        "            target_tensor.view(-1)\n",
        "        )\n",
        "        loss.backward()\n",
        "        encoder_optimizer.step()\n",
        "        decoder_optimizer.step()\n",
        "        total_loss += loss.item()\n",
        "    return total_loss / len(dataloader)\n",
        "\n",
        "def translate(encoder, decoder, sentence, input_lang, output_lang, max_len, device):\n",
        "    def indexesFromSentence(lang, sentence):\n",
        "        return [lang.word2index.get(word, UNK_token) for word in sentence.split(' ')]\n",
        "    def tensorFromSentence(lang, sentence):\n",
        "        indexes = indexesFromSentence(lang, sentence)\n",
        "        indexes.append(EOS_token)\n",
        "        padded_indexes = indexes + [PAD_token] * (max_len - len(indexes))\n",
        "        return torch.tensor(padded_indexes, dtype=torch.long, device=device).view(1, -1)\n",
        "    encoder.eval()\n",
        "    decoder.eval()\n",
        "    with torch.no_grad():\n",
        "        input_tensor = tensorFromSentence(input_lang, sentence)\n",
        "        encoder_outputs, encoder_hidden, _ = encoder(input_tensor)\n",
        "        decoder_outputs, _, _ = decoder(encoder_outputs, encoder_hidden, device, None)\n",
        "        decoded_words = []\n",
        "        for ot in decoder_outputs[0]:\n",
        "            _, topi = ot.topk(1)\n",
        "            if topi.item() == EOS_token:\n",
        "                break\n",
        "            decoded_words.append(output_lang.index2word[topi.item()])\n",
        "    return decoded_words\n"
      ],
      "metadata": {
        "id": "_hPkcAh1Xg9g"
      },
      "execution_count": 18,
      "outputs": []
    },
    {
      "cell_type": "markdown",
      "source": [
        "Visualization Utilities"
      ],
      "metadata": {
        "id": "zplDKcApXsfD"
      }
    },
    {
      "cell_type": "code",
      "source": [
        "import matplotlib.pyplot as plt\n",
        "import matplotlib.ticker as ticker\n",
        "import numpy as np\n",
        "\n",
        "def plot_loss_curve(losses):\n",
        "    \"\"\"Plots the training loss curve over epochs.\"\"\"\n",
        "    plt.figure(figsize=(8, 5))\n",
        "    plt.plot(losses, marker='o')\n",
        "    plt.title(\"Training Loss Curve\")\n",
        "    plt.xlabel(\"Epoch\")\n",
        "    plt.ylabel(\"Loss\")\n",
        "    plt.grid(True)\n",
        "    plt.show()\n",
        "\n",
        "def visualize_attention(input_sentence, output_words, attentions):\n",
        "    \"\"\"Visualizes the attention weights as a heatmap.\"\"\"\n",
        "    # Convert input sentence to tokens\n",
        "    input_tokens = input_sentence.split(' ')\n",
        "\n",
        "    # Remove EOS token if present in output\n",
        "    if output_words[-1] == '<EOS>':\n",
        "        output_words = output_words[:-1]\n",
        "\n",
        "    fig, ax = plt.subplots(figsize=(10, 8))\n",
        "    cax = ax.matshow(attentions[:len(output_words), :len(input_tokens)], cmap='viridis')\n",
        "    fig.colorbar(cax)\n",
        "\n",
        "    ax.set_xticklabels([''] + input_tokens, rotation=90)\n",
        "    ax.set_yticklabels([''] + output_words)\n",
        "\n",
        "    ax.xaxis.set_major_locator(ticker.MultipleLocator(1))\n",
        "    ax.yaxis.set_major_locator(ticker.MultipleLocator(1))\n",
        "\n",
        "    plt.title(\"Attention Heatmap\", pad=20)\n",
        "    plt.show()\n",
        "\n",
        "def translate_with_attention(encoder, decoder, sentence, input_lang, output_lang, max_length, device):\n",
        "    \"\"\"Translates a sentence and returns predicted words & attention weights.\"\"\"\n",
        "    with torch.no_grad():\n",
        "        # Prepare input\n",
        "        input_tensor = tensorFromSentence(input_lang, sentence)\n",
        "        input_tensor = input_tensor.unsqueeze(0).to(device)  # batch_size=1\n",
        "        input_length = input_tensor.size(1)\n",
        "\n",
        "        encoder_hidden = encoder.initHidden()\n",
        "        encoder_outputs = torch.zeros(max_length, encoder.hidden_size, device=device)\n",
        "\n",
        "        # Encoder pass\n",
        "        for ei in range(input_length):\n",
        "            encoder_output, encoder_hidden = encoder(input_tensor[:, ei], encoder_hidden)\n",
        "            encoder_outputs[ei] = encoder_output[0, 0]\n",
        "\n",
        "        # Decoder start token\n",
        "        decoder_input = torch.tensor([[SOS_token]], device=device)\n",
        "        decoder_hidden = encoder_hidden\n",
        "        decoded_words = []\n",
        "        attentions = torch.zeros(max_length, max_length)\n",
        "\n",
        "        for di in range(max_length):\n",
        "            decoder_output, decoder_hidden, decoder_attention = decoder(\n",
        "                decoder_input, decoder_hidden, encoder_outputs\n",
        "            )\n",
        "            attentions[di] = decoder_attention.data\n",
        "            topv, topi = decoder_output.data.topk(1)\n",
        "            if topi.item() == EOS_token:\n",
        "                decoded_words.append('<EOS>')\n",
        "                break\n",
        "            else:\n",
        "                decoded_words.append(output_lang.index2word[topi.item()])\n",
        "\n",
        "            decoder_input = topi.squeeze().detach()\n",
        "\n",
        "        return decoded_words, attentions[:di + 1]\n"
      ],
      "metadata": {
        "id": "PmqExlumXtCN"
      },
      "execution_count": 19,
      "outputs": []
    },
    {
      "cell_type": "markdown",
      "source": [
        "Main Execution"
      ],
      "metadata": {
        "id": "DKXFvWohXmU3"
      }
    },
    {
      "cell_type": "code",
      "source": [
        "try:\n",
        "    device = torch.device(\"cuda\" if torch.cuda.is_available() else \"cpu\")\n",
        "    print(f\"--- Using device: {device} ---\")\n",
        "\n",
        "    # Load all sentence pairs (full dataset)\n",
        "    all_pairs = create_pairs_from_files('train.en', 'train.mr')\n",
        "    pairs = all_pairs\n",
        "    print(f\"\\nUsing the full dataset: {len(pairs)} pairs.\")\n",
        "    del all_pairs\n",
        "    gc.collect()\n",
        "\n",
        "    # Filter pairs by length\n",
        "    MAX_LENGTH = 25\n",
        "    filtered_pairs = [p for p in pairs if len(p[0].split(' ')) < MAX_LENGTH and len(p[1].split(' ')) < MAX_LENGTH]\n",
        "    if not filtered_pairs:\n",
        "        raise ValueError(\"No sentence pairs left after filtering.\")\n",
        "    print(f\"Filtered down to {len(filtered_pairs)} pairs.\")\n",
        "\n",
        "    # Build vocabularies\n",
        "    input_lang, output_lang = read_langs('eng', 'mar', filtered_pairs)\n",
        "    print(\"Vocabularies built. Input:\", input_lang.n_words, \"words. Output:\", output_lang.n_words, \"words.\")\n",
        "\n",
        "    # Create DataLoader\n",
        "    train_dataset = TranslationDataset(filtered_pairs, input_lang, output_lang, MAX_LENGTH)\n",
        "    train_dataloader = DataLoader(train_dataset, batch_size=32, shuffle=True)\n",
        "\n",
        "    # Model setup\n",
        "    hidden_size = 256\n",
        "    embedding_dim = 256\n",
        "    encoder = EncoderRNN(input_lang.n_words, hidden_size, embedding_dim).to(device)\n",
        "    decoder = AttnDecoderRNN(hidden_size, output_lang.n_words, embedding_dim).to(device)\n",
        "\n",
        "    encoder_optimizer = optim.Adam(encoder.parameters(), lr=0.001)\n",
        "    decoder_optimizer = optim.Adam(decoder.parameters(), lr=0.001)\n",
        "    criterion = nn.NLLLoss(ignore_index=PAD_token)\n",
        "\n",
        "    # Training loop\n",
        "    print(\"\\nStarting training...\")\n",
        "    n_epochs = 10\n",
        "    losses = []\n",
        "    for epoch in range(1, n_epochs + 1):\n",
        "        start_time = time.time()\n",
        "        loss = train_epoch(train_dataloader, encoder, decoder, encoder_optimizer, decoder_optimizer, criterion, device)\n",
        "        losses.append(loss)\n",
        "        end_time = time.time()\n",
        "        epoch_mins, epoch_secs = divmod(end_time - start_time, 60)\n",
        "        print(f\"--- Epoch {epoch}/{n_epochs} | Time: {epoch_mins:.0f}m {epoch_secs:.0f}s | Loss: {loss:.4f} ---\")\n",
        "\n",
        "    print(\"Training complete.\")\n",
        "\n",
        "    # Save for visualization block\n",
        "    trained_encoder = encoder\n",
        "    trained_decoder = decoder\n",
        "    trained_pairs = filtered_pairs\n",
        "    trained_input_lang = input_lang\n",
        "    trained_output_lang = output_lang\n",
        "\n",
        "    # Loss curve visualization\n",
        "    plot_loss_curve(losses)\n",
        "\n",
        "except FileNotFoundError:\n",
        "    print(\"Error: Make sure 'train.en' and 'train.mr' are in the same directory as the script.\")\n",
        "except Exception as e:\n",
        "    print(f\"An unexpected error occurred: {e}\")\n"
      ],
      "metadata": {
        "colab": {
          "base_uri": "https://localhost:8080/",
          "height": 799
        },
        "id": "PFyCX_mNXm50",
        "outputId": "1a739900-5276-4f71-9a23-f47be0395bde"
      },
      "execution_count": 20,
      "outputs": [
        {
          "output_type": "stream",
          "name": "stdout",
          "text": [
            "--- Using device: cuda ---\n",
            "\n",
            "Using the full dataset: 3625 pairs.\n",
            "Filtered down to 3282 pairs.\n",
            "Vocabularies built. Input: 5780 words. Output: 9643 words.\n",
            "\n",
            "Starting training...\n",
            "--- Epoch 1/10 | Time: 0m 6s | Loss: 7.4924 ---\n",
            "--- Epoch 2/10 | Time: 0m 5s | Loss: 6.7789 ---\n",
            "--- Epoch 3/10 | Time: 0m 6s | Loss: 6.5912 ---\n",
            "--- Epoch 4/10 | Time: 0m 6s | Loss: 6.4220 ---\n",
            "--- Epoch 5/10 | Time: 0m 6s | Loss: 6.2650 ---\n",
            "--- Epoch 6/10 | Time: 0m 6s | Loss: 6.0853 ---\n",
            "--- Epoch 7/10 | Time: 0m 6s | Loss: 5.9490 ---\n",
            "--- Epoch 8/10 | Time: 0m 5s | Loss: 5.7565 ---\n",
            "--- Epoch 9/10 | Time: 0m 6s | Loss: 5.5876 ---\n",
            "--- Epoch 10/10 | Time: 0m 5s | Loss: 5.3559 ---\n",
            "Training complete.\n"
          ]
        },
        {
          "output_type": "display_data",
          "data": {
            "text/plain": [
              "<Figure size 800x500 with 1 Axes>"
            ],
            "image/png": "[encoded data removed]"
          },
          "metadata": {}
        }
      ]
    },
    {
      "cell_type": "markdown",
      "source": [
        "#CONCLUSION\n",
        "\n",
        "We implemented an English–Marathi neural machine translation model using an encoder–decoder architecture with attention. The system processed the full parallel dataset from .en and .mr files, built vocabularies, and trained over multiple epochs with loss tracking. A separate visualization module plotted the training loss curve and displayed attention heatmaps for sample translations, providing both quantitative and qualitative evaluation. This approach resulted in a functional translation model with clear insights into its learning process and translation behavior."
      ],
      "metadata": {
        "id": "tOdIAHKMduPo"
      }
    }
  ],
  "metadata": {
    "accelerator": "GPU",
    "colab": {
      "gpuType": "T4",
      "provenance": []
    },
    "kernelspec": {
      "display_name": "Python 3",
      "name": "python3"
    },
    "language_info": {
      "name": "python"
    }
  },
  "nbformat": 4,
  "nbformat_minor": 0
}